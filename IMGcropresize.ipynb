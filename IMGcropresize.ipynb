{
 "cells": [
  {
   "cell_type": "code",
   "execution_count": 1,
   "metadata": {},
   "outputs": [],
   "source": [
    "import numpy as np\n",
    "import cv2 as cv\n",
    "import argparse\n",
    "import builtins as input\n",
    "import os\n",
    "import matplotlib.pyplot as plt\n",
    "from tqdm import tqdm\n",
    "import cvzone\n",
    "from cvzone.SelfiSegmentationModule import SelfiSegmentation"
   ]
  },
  {
   "cell_type": "code",
   "execution_count": null,
   "metadata": {},
   "outputs": [],
   "source": [
    "#main function\n",
    "width = 256\n",
    "\n",
    "Pathfrom = 'Size/keepSize/'\n",
    "Pathto = 'Size/TriainSize/'\n",
    "\n",
    "folder = [Pathfrom + f for f in os.listdir(Pathfrom)]\n",
    "\n",
    "for imagePath in (folder):\n",
    "  i = 1\n",
    "  for item in tqdm(os.listdir(imagePath)):\n",
    "    file = os.path.join(imagePath, item)\n",
    "    img = cv.imread(file, cv.COLOR_BGR2RGB)\n",
    "\n",
    "    img = img[500:2600, 500:2600] #crop\n",
    "    img = cv.resize(img, (width,width))\n",
    "\n",
    "    fname = file.split(\"p\")[2]\n",
    "    fname = fname.split(\"\\\\\")[0]\n",
    "\n",
    "    name = fname + \"(\" + str(i) + \")\" + \".JPG\"\n",
    "    i += 1\n",
    "\n",
    "    cv.imwrite(os.path.join(Pathto, name), img)\n",
    "\n",
    "    "
   ]
  },
  {
   "cell_type": "code",
   "execution_count": null,
   "metadata": {},
   "outputs": [],
   "source": [
    "img = cv.imread('verFullTestPic.JPG')\n",
    "img = cv.cvtColor(img, cv.COLOR_BGR2RGB)\n",
    "\n",
    "crop = img[500:2600, 500:2600]\n",
    "\n",
    "plt.imshow(img)\n",
    "plt.show()\n",
    "plt.imshow(crop)\n",
    "plt.show()"
   ]
  },
  {
   "cell_type": "code",
   "execution_count": null,
   "metadata": {},
   "outputs": [],
   "source": [
    "for imagePath in (folder):\n",
    "    for item in tqdm(os.listdir(imagePath)):\n",
    "      file = os.path.join(imagePath, item)\n",
    "      split1 = file.split(\"\\\\\")[1]\n",
    "      split2 = split1.split('.')[0]\n",
    "      img = cv.imread(file, cv.COLOR_BGR2RGB)\n",
    "      img = img[500:2600, 500:2600]\n",
    "      img = cv.resize(img, (width,width))\n",
    "\n",
    "      cv.imwrite(os.path.join(Pathto, 'start.JPG'), ori)\n",
    "      newimg = cv.resize(ori, (width,width))"
   ]
  }
 ],
 "metadata": {
  "kernelspec": {
   "display_name": "Python 3.9.10 64-bit",
   "language": "python",
   "name": "python3"
  },
  "language_info": {
   "codemirror_mode": {
    "name": "ipython",
    "version": 3
   },
   "file_extension": ".py",
   "mimetype": "text/x-python",
   "name": "python",
   "nbconvert_exporter": "python",
   "pygments_lexer": "ipython3",
   "version": "3.9.10"
  },
  "orig_nbformat": 4,
  "vscode": {
   "interpreter": {
    "hash": "c25269a4018224bb4e3cb6b79397037e31419b0dedc1b97e47175df2e08dbf7b"
   }
  }
 },
 "nbformat": 4,
 "nbformat_minor": 2
}
