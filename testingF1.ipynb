{
 "cells": [
  {
   "cell_type": "code",
   "execution_count": 1,
   "metadata": {},
   "outputs": [
    {
     "name": "stdout",
     "output_type": "stream",
     "text": [
      "              precision    recall  f1-score   support\n",
      "\n",
      "           0       0.86      1.00      0.92         6\n",
      "           1       1.00      0.50      0.67         2\n",
      "\n",
      "   micro avg       0.88      0.88      0.88         8\n",
      "   macro avg       0.93      0.75      0.79         8\n",
      "weighted avg       0.89      0.88      0.86         8\n",
      " samples avg       0.88      0.88      0.88         8\n",
      "\n"
     ]
    }
   ],
   "source": [
    "#explanation the code below\n",
    "\n",
    "from sklearn.metrics import classification_report\n",
    "\n",
    "ypred = [[0,1],[1,0],[1,0],[1,0],[1,0],[1,0],[0,1],[1,0]]\n",
    "ytest = [[1,0],[1,0],[1,0],[1,0],[1,0],[1,0],[0,1],[1,0]]\n",
    "\n",
    "print(classification_report(ypred, ytest))"
   ]
  }
 ],
 "metadata": {
  "kernelspec": {
   "display_name": "Python 3",
   "language": "python",
   "name": "python3"
  },
  "language_info": {
   "codemirror_mode": {
    "name": "ipython",
    "version": 3
   },
   "file_extension": ".py",
   "mimetype": "text/x-python",
   "name": "python",
   "nbconvert_exporter": "python",
   "pygments_lexer": "ipython3",
   "version": "3.9.10 (tags/v3.9.10:f2f3f53, Jan 17 2022, 15:14:21) [MSC v.1929 64 bit (AMD64)]"
  },
  "orig_nbformat": 4,
  "vscode": {
   "interpreter": {
    "hash": "c25269a4018224bb4e3cb6b79397037e31419b0dedc1b97e47175df2e08dbf7b"
   }
  }
 },
 "nbformat": 4,
 "nbformat_minor": 2
}
